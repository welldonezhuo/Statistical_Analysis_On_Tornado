{
  "nbformat": 4,
  "nbformat_minor": 0,
  "metadata": {
    "colab": {
      "provenance": []
    },
    "kernelspec": {
      "name": "ir",
      "display_name": "R"
    },
    "language_info": {
      "name": "R"
    }
  },
  "cells": [
    {
      "cell_type": "markdown",
      "source": [
        "# Statistical Theory Final Project Analysis\n",
        "\n",
        "---\n",
        "\n",
        "Names of Group Members:\n",
        "\n",
        "-  Jiaqi (Kelsey) Li\n",
        "-  Zhuo Chen\n",
        "-   Jiawei Liu\n",
        "\n",
        "\n"
      ],
      "metadata": {
        "id": "iSAS40ik3mAV"
      }
    },
    {
      "cell_type": "markdown",
      "source": [
        "# **Analysis on the Seasonality and Fatalities Relative to Magnitudes Levels of the Tornados in the United States**\n",
        "\n",
        "---\n",
        "\n"
      ],
      "metadata": {
        "id": "gzt_WZ_NL4D8"
      }
    },
    {
      "cell_type": "markdown",
      "source": [
        "# Introduction\n",
        "\n",
        "---\n",
        "\n",
        "\n",
        "<br>\n",
        "\n",
        "## Background:\n",
        "\n",
        "---\n",
        "\n",
        "\n",
        "We will analyze the data set about US Tornado 1950-2021, capturing various attributes like date, location, magnitude, number of injuries and fatalities, and details of the tornado's path. The source is: https://www.kaggle.com/datasets/danbraswell/us-tornado-dataset-1950-2021/data and the raw data is from NOAA (https://www.spc.noaa.gov/wcm/#data). And in the Kaggle dataset we chose to import, the author just got rid of a few columns that are not that related or hard to understand for non-professionals. The data spans from 1950 to 2021. The latest update on Kaggle was in 2023. It is worth mentioning that we would like to think the population is all tornadoes that have occurred in the US.\n",
        "\n",
        "<br>\n",
        "\n",
        "We chose this data for 4 major reasons. First of all, it is absolutely large enough for us to perform any sort of analysis. Since this is a result of meteorological data collection, it is also not likely to be associated with any ethical or moral issues. In addition, it has a good combination of quatitative variable and categorical (or potential categorical) variable. And it is real data from official government organization so it should be relatively credibel and clean.\n",
        "\n",
        "<br>\n",
        "\n",
        "With the help of the instructor, we first upload the data to GitHub, and then insert the data via `read.csv` to access the web address of our file so that all members of the group and instructor can run the data in this file.\n",
        "\n",
        "<br>\n",
        "\n",
        "After some preliminary analysis, we have identified 2 statistical question of interest:\n",
        "\n",
        "1. **Does magnitude level 4 (Devistating) tornados necessarily cause more fatalities than magnitude level 3 (Severe) tornados on average in the US?**\n",
        "\n",
        "\n",
        "\n",
        "2. **In the US, does magnitude level 0 (Light) tornados more likely to occur in May or November?**\n",
        "\n",
        "\n",
        "<br>\n",
        "<br>\n",
        "\n",
        "## Structure of the Data:\n",
        "\n",
        "---\n",
        "\n",
        "There are 67558 observations and 14 variables in the dataset. A big issue was that for the variable `mag` which stands for \"the magnitude of the tornado\", they used something called ***the Fujita Scale*** before <font color=\"tomato\">**Feburary, 2007**</font> and then switched to ***the Enhance Fujita Scale*** afterwards. Since these scales are based on wind speed and we don't have the raw data for wind speed, we decided that we will only use the data that used the the Enhance Fujita Scale from 2008 (because if we use data from Feburary, 2007, then if we are calculating proportions, Januaray would be disproportionate). Here is the chart for the Enhance Fujita Scale (EFU = -9 in the data):\n",
        "\n",
        "<img src=\"https://drive.google.com/uc?id=1H-xQgUudahnmn9Bkm0YoNCjWV8XEknB2\" alt=\"\" width=\"400\" height=\"auto\">\n",
        "\n",
        "<br>\n",
        "<br>\n",
        "\n",
        "As for variables of interest, the 4 of them are:\n",
        "\n",
        "- `mo`: **categorical**, Month (1-12)\n",
        "- `mag`: **categorical**, magnitude measured by the Enhance Fujita Scale rating\n",
        "- `fat`: **quantitative**, Number of fatalities\n",
        "- `len`: **quantitative**, Length of track in miles\n",
        "\n",
        "To note that we converted `mo` and `mag` from \"`int`\" to \"`fac`\". Because for variables `mo` and `mag`, we prefer to use them as categorical variable so that we can potentially count how many observations are in each level of these variables.\n",
        "\n",
        "<br>\n",
        "\n",
        "We also excluded any observations before 2008.Like I mentioned above, since they have this switch in scaling the tornados and we don't have the raw data for wind speed, we decided that we will only use the data that used the the Enhance Fujita Scale. However, if we use data starting right from Feburary, 2007, then if we are calculating proportions, Januaray would be disproportionate. Thus, we just included data from 2008-2021."
      ],
      "metadata": {
        "id": "punIno6i4MmE"
      }
    },
    {
      "cell_type": "markdown",
      "source": [
        "#### Importing Dataset"
      ],
      "metadata": {
        "id": "km8iKCzsIuNg"
      }
    },
    {
      "cell_type": "code",
      "source": [
        "tornado <- read.csv(\"https://raw.githubusercontent.com/CU-Denver-MathStats-OER/Statistical-Theory/main/Data/Project-24-Spring/us_tornado_dataset_1950_2021.csv\")"
      ],
      "metadata": {
        "id": "tlqW8j2KBkxA"
      },
      "execution_count": null,
      "outputs": []
    },
    {
      "cell_type": "code",
      "source": [
        "str(tornado)"
      ],
      "metadata": {
        "colab": {
          "base_uri": "https://localhost:8080/"
        },
        "id": "oEXqSqeTGNBx",
        "outputId": "38a6e268-bf0b-43d9-b94a-afa45930ccd4"
      },
      "execution_count": null,
      "outputs": [
        {
          "output_type": "stream",
          "name": "stdout",
          "text": [
            "'data.frame':\t67558 obs. of  14 variables:\n",
            " $ yr  : int  1950 1950 1950 1950 1950 1950 1950 1950 1950 1950 ...\n",
            " $ mo  : int  1 1 1 1 1 1 1 2 2 2 ...\n",
            " $ dy  : int  3 3 3 13 25 25 26 11 11 11 ...\n",
            " $ date: chr  \"1950-01-03\" \"1950-01-03\" \"1950-01-03\" \"1950-01-13\" ...\n",
            " $ st  : chr  \"IL\" \"MO\" \"OH\" \"AR\" ...\n",
            " $ mag : int  3 3 1 3 2 2 2 2 2 2 ...\n",
            " $ inj : int  3 3 1 1 0 5 2 0 5 6 ...\n",
            " $ fat : int  0 0 0 1 0 0 0 0 0 0 ...\n",
            " $ slat: num  39.1 38.8 40.9 34.4 41.2 ...\n",
            " $ slon: num  -89.3 -90.2 -84.6 -94.4 -87.3 ...\n",
            " $ elat: num  39.1 38.8 0 0 0 ...\n",
            " $ elon: num  -89.2 -90 0 0 0 ...\n",
            " $ len : num  3.6 9.5 0.1 0.6 0.1 2.3 4.7 9.9 4.6 4.5 ...\n",
            " $ wid : int  130 150 10 17 100 300 133 400 100 67 ...\n"
          ]
        }
      ]
    },
    {
      "cell_type": "markdown",
      "source": [
        "#### Data Cleaning"
      ],
      "metadata": {
        "id": "MoE0Uw64HwdX"
      }
    },
    {
      "cell_type": "code",
      "source": [
        "tornado.2008 <- subset(tornado, yr > 2007, select = c(mo, mag, fat, len))"
      ],
      "metadata": {
        "id": "c4gfDj77HJSL"
      },
      "execution_count": null,
      "outputs": []
    },
    {
      "cell_type": "code",
      "source": [
        "tornado.2008$mo <- factor(tornado.2008$mo)\n",
        "\n",
        "tornado.2008$mag <- factor(tornado.2008$mag)\n",
        "new_order <- c('0','1','2','3','4','5','-9')\n",
        "tornado.2008$mag <- factor(tornado.2008$mag, levels = new_order)"
      ],
      "metadata": {
        "id": "F8vLgh4KHQ-7"
      },
      "execution_count": null,
      "outputs": []
    },
    {
      "cell_type": "code",
      "source": [
        "head(tornado.2008)"
      ],
      "metadata": {
        "colab": {
          "base_uri": "https://localhost:8080/",
          "height": 286
        },
        "id": "3TTgGhRiHYsp",
        "outputId": "8c0177cf-a37f-40ee-84b2-f7c4c8147eb1"
      },
      "execution_count": null,
      "outputs": [
        {
          "output_type": "display_data",
          "data": {
            "text/html": [
              "<table class=\"dataframe\">\n",
              "<caption>A data.frame: 6 × 4</caption>\n",
              "<thead>\n",
              "\t<tr><th></th><th scope=col>mo</th><th scope=col>mag</th><th scope=col>fat</th><th scope=col>len</th></tr>\n",
              "\t<tr><th></th><th scope=col>&lt;fct&gt;</th><th scope=col>&lt;fct&gt;</th><th scope=col>&lt;int&gt;</th><th scope=col>&lt;dbl&gt;</th></tr>\n",
              "</thead>\n",
              "<tbody>\n",
              "\t<tr><th scope=row>50392</th><td>1</td><td>0</td><td>0</td><td> 0.10</td></tr>\n",
              "\t<tr><th scope=row>50393</th><td>1</td><td>0</td><td>0</td><td> 0.10</td></tr>\n",
              "\t<tr><th scope=row>50394</th><td>1</td><td>1</td><td>0</td><td> 2.60</td></tr>\n",
              "\t<tr><th scope=row>50395</th><td>1</td><td>0</td><td>0</td><td> 2.35</td></tr>\n",
              "\t<tr><th scope=row>50396</th><td>1</td><td>1</td><td>0</td><td> 3.00</td></tr>\n",
              "\t<tr><th scope=row>50397</th><td>1</td><td>3</td><td>0</td><td>13.20</td></tr>\n",
              "</tbody>\n",
              "</table>\n"
            ],
            "text/markdown": "\nA data.frame: 6 × 4\n\n| <!--/--> | mo &lt;fct&gt; | mag &lt;fct&gt; | fat &lt;int&gt; | len &lt;dbl&gt; |\n|---|---|---|---|---|\n| 50392 | 1 | 0 | 0 |  0.10 |\n| 50393 | 1 | 0 | 0 |  0.10 |\n| 50394 | 1 | 1 | 0 |  2.60 |\n| 50395 | 1 | 0 | 0 |  2.35 |\n| 50396 | 1 | 1 | 0 |  3.00 |\n| 50397 | 1 | 3 | 0 | 13.20 |\n\n",
            "text/latex": "A data.frame: 6 × 4\n\\begin{tabular}{r|llll}\n  & mo & mag & fat & len\\\\\n  & <fct> & <fct> & <int> & <dbl>\\\\\n\\hline\n\t50392 & 1 & 0 & 0 &  0.10\\\\\n\t50393 & 1 & 0 & 0 &  0.10\\\\\n\t50394 & 1 & 1 & 0 &  2.60\\\\\n\t50395 & 1 & 0 & 0 &  2.35\\\\\n\t50396 & 1 & 1 & 0 &  3.00\\\\\n\t50397 & 1 & 3 & 0 & 13.20\\\\\n\\end{tabular}\n",
            "text/plain": [
              "      mo mag fat len  \n",
              "50392 1  0   0    0.10\n",
              "50393 1  0   0    0.10\n",
              "50394 1  1   0    2.60\n",
              "50395 1  0   0    2.35\n",
              "50396 1  1   0    3.00\n",
              "50397 1  3   0   13.20"
            ]
          },
          "metadata": {}
        }
      ]
    },
    {
      "cell_type": "code",
      "source": [
        "summary(tornado.2008)"
      ],
      "metadata": {
        "colab": {
          "base_uri": "https://localhost:8080/",
          "height": 156
        },
        "id": "S0ZiXJFLH79F",
        "outputId": "b3145091-b02c-43f7-8d27-bb1f0427e749"
      },
      "execution_count": null,
      "outputs": [
        {
          "output_type": "display_data",
          "data": {
            "text/plain": [
              "       mo       mag            fat                 len         \n",
              " 5      :3765   0 :8941   Min.   :  0.00000   Min.   :  0.010  \n",
              " 4      :3000   1 :5713   1st Qu.:  0.00000   1st Qu.:  0.390  \n",
              " 6      :2507   2 :1455   Median :  0.00000   Median :  1.470  \n",
              " 7      :1377   3 : 366   Mean   :  0.07212   Mean   :  3.559  \n",
              " 3      :1217   4 :  79   3rd Qu.:  0.00000   3rd Qu.:  4.140  \n",
              " 8      :1136   5 :   8   Max.   :158.00000   Max.   :168.530  \n",
              " (Other):4165   -9: 605                                        "
            ]
          },
          "metadata": {}
        }
      ]
    },
    {
      "cell_type": "code",
      "source": [
        "str(tornado.2008)"
      ],
      "metadata": {
        "colab": {
          "base_uri": "https://localhost:8080/"
        },
        "id": "RXJoa7PJH8hE",
        "outputId": "8f1e8a72-a7ba-4308-e9e1-137579daa742"
      },
      "execution_count": null,
      "outputs": [
        {
          "output_type": "stream",
          "name": "stdout",
          "text": [
            "'data.frame':\t17167 obs. of  4 variables:\n",
            " $ mo : Factor w/ 12 levels \"1\",\"2\",\"3\",\"4\",..: 1 1 1 1 1 1 1 1 1 1 ...\n",
            " $ mag: Factor w/ 7 levels \"0\",\"1\",\"2\",\"3\",..: 1 1 2 1 2 4 1 1 1 1 ...\n",
            " $ fat: int  0 0 0 0 0 0 0 0 0 0 ...\n",
            " $ len: num  0.1 0.1 2.6 2.35 3 13.2 0.07 0.17 0.3 0.25 ...\n"
          ]
        }
      ]
    },
    {
      "cell_type": "markdown",
      "source": [
        "# Exploratory Data Analysis\n",
        "\n",
        "------------------------------------------------------------------------\n",
        "\n"
      ],
      "metadata": {
        "id": "wMvjeIgN_Vzq"
      }
    },
    {
      "cell_type": "markdown",
      "source": [
        "## Distribution of Quantitative Variable Fatalities (`fat`)--relating to Q1\n",
        "\n",
        "---\n",
        "\n",
        "\n",
        "As we can see from the table, most of the tornados in this dataset (16893  out of 17167) have 0 fatalities. Thus we decided to creat a histogram and a boxplot for only those obersvations with the non-zero fertality to better show the distribution of the `fat` variable and split them up to 3 histograms so that the distribution can actually be seen.\n",
        "\n",
        "<br>\n",
        "\n",
        "All the graphs suggests a right-skewed distribution, where most tornado events result in fewer fatalities, but a few extreme cases cause significantly more. Specifically, the histograms show that fatalities in the range of 1-5 are far more common than those in higher ranges, indicating that while severe fatalities are possible, they are less frequent.This informs us that while tornadoes can be deadly, the degree of lethality varies widely. Since in terms of policy relevancy, we are definitely intereted in what circumstances lead to the rare higher fatality counts. So the graphs inspired us to explore whether magnitude of tonados are linked with the fatalities in **Test for a Difference in Two Means (Q1)**.\n"
      ],
      "metadata": {
        "id": "-7cdvZC0JmJG"
      }
    },
    {
      "cell_type": "code",
      "source": [
        "table(tornado.2008$fat == 0)"
      ],
      "metadata": {
        "colab": {
          "base_uri": "https://localhost:8080/",
          "height": 263
        },
        "id": "HuGqAcDTJls_",
        "outputId": "eb3d8e99-6808-4272-d5f8-c0f9b3964100"
      },
      "execution_count": 1,
      "outputs": [
        {
          "output_type": "error",
          "ename": "ERROR",
          "evalue": "Error: object 'tornado.2008' not found\n",
          "traceback": [
            "Error: object 'tornado.2008' not found\nTraceback:\n",
            "1. .handleSimpleError(function (cnd) \n . {\n .     watcher$capture_plot_and_output()\n .     cnd <- sanitize_call(cnd)\n .     watcher$push(cnd)\n .     switch(on_error, continue = invokeRestart(\"eval_continue\"), \n .         stop = invokeRestart(\"eval_stop\"), error = invokeRestart(\"eval_error\", \n .             cnd))\n . }, \"object 'tornado.2008' not found\", base::quote(eval(expr, \n .     envir)))"
          ]
        }
      ]
    },
    {
      "cell_type": "code",
      "source": [
        "# Boxplot (filtered out 0)\n",
        "data_filtered_6 <- subset(tornado.2008, fat != 0)\n",
        "\n",
        "boxplot(data_filtered_6$fat,\n",
        "        main = \"Fatalities of Tornados (>0)\",\n",
        "        xlab = \"Fatalities (person(s))\",\n",
        "        xaxt='n',\n",
        "        cex.lab=1.75, cex.axis=1.75, cex.main=1.75,\n",
        "        horizontal = TRUE)\n",
        "        axis(1, at = fivenum(data_filtered_6$fat))\n",
        "\n",
        "# Add a legend with the five-number summary\n",
        "\n",
        "fivenum <- c(\"min\", \"25%\", \"median\", \"75%\", \"max\")\n",
        "fivenum_fat <- fivenum(data_filtered_6$fat)\n",
        "\n",
        "legend(\"topright\",\n",
        "       legend = paste(fivenum, ':', round(fivenum_fat, 2)),\n",
        "       title = \"Five-number Summary\",\n",
        "       bty = \"n\")"
      ],
      "metadata": {
        "colab": {
          "base_uri": "https://localhost:8080/",
          "height": 263
        },
        "id": "Vpg6uPMnJwKI",
        "outputId": "ea8d4a24-01a0-4998-c1bd-ab689508112a"
      },
      "execution_count": 2,
      "outputs": [
        {
          "output_type": "error",
          "ename": "ERROR",
          "evalue": "Error: object 'tornado.2008' not found\n",
          "traceback": [
            "Error: object 'tornado.2008' not found\nTraceback:\n",
            "1. .handleSimpleError(function (cnd) \n . {\n .     watcher$capture_plot_and_output()\n .     cnd <- sanitize_call(cnd)\n .     watcher$push(cnd)\n .     switch(on_error, continue = invokeRestart(\"eval_continue\"), \n .         stop = invokeRestart(\"eval_stop\"), error = invokeRestart(\"eval_error\", \n .             cnd))\n . }, \"object 'tornado.2008' not found\", base::quote(eval(expr, \n .     envir)))"
          ]
        }
      ]
    },
    {
      "cell_type": "code",
      "source": [
        "# Histograms (3 side-by-side)\n",
        "\n",
        "par(mfrow = c(1, 3)) # create an array of plots for thr histograms\n",
        "\n",
        "# creat a subset for 1 <= fatalities <= 5\n",
        "data_filtered_3 <- subset(tornado.2008, fat >= 1 & fat <= 5 )\n",
        "\n",
        "# creat a histogram for 1 <= fatalities <= 5\n",
        "hist(data_filtered_3$fat,\n",
        "     breaks = 5,\n",
        "     xlab = \"Fatalities (person(s))\",\n",
        "     xlim = c(1,5),\n",
        "     ylab = \"Frequency\",\n",
        "     ylim = c(0,200),\n",
        "     main = \"Fatalities between [1,5]\",\n",
        "     cex.lab=1.5, cex.axis=1.5, cex.main=1.5,\n",
        "     col = \"steelblue\")\n",
        "\n",
        "# creat a subset for 6 <= fatalities <= 115\n",
        "data_filtered_4 <- subset(tornado.2008, fat >= 6 & fat <= 15 )\n",
        "\n",
        "# creat a histogram for 6 <= fatalities <= 16\n",
        "hist(data_filtered_4$fat,\n",
        "     breaks = 10,\n",
        "     xlab = \"Fatalities (person(s))\",\n",
        "     xlim = c(5,16),\n",
        "     ylab = \"Frequency\",\n",
        "     ylim = c(0,15),\n",
        "     main = \"Fatalities between [6,15]\",\n",
        "     cex.lab=1.5, cex.axis=1.5, cex.main=1.5,\n",
        "     col = \"steelblue\")\n",
        "\n",
        "# creat a subset for fatalities >= 16\n",
        "data_filtered_5 <- subset(tornado.2008, fat >= 16 )\n",
        "\n",
        "# creat a histogram for 0 <= fatalities <= 5\n",
        "hist(data_filtered_5$fat,\n",
        "     breaks = 20,\n",
        "     xlab = \"Fatalities (person(s))\",\n",
        "     xlim = c(16,158),\n",
        "     ylab = \"Frequency\",\n",
        "     ylim = c(0,8),\n",
        "     main = \"Fatalities between [16, 158]\",\n",
        "     cex.lab=1.5, cex.axis=1.5, cex.main=1.45,\n",
        "     col = \"steelblue\")"
      ],
      "metadata": {
        "id": "x_RNxpYKKBDo"
      },
      "execution_count": null,
      "outputs": []
    },
    {
      "cell_type": "markdown",
      "source": [
        "## Distribution of Categorical Variable Magnitude (`mag`)--relating to both Q1 & Q2\n",
        "\n",
        "----\n",
        "\n",
        "From this graph of the distribution of Magnitude, we can see that in US from 2008-2021, magnitude level 0 and 1 (light and moderate) tornados are most common and there were hardly any occurence of magnitude level 5 (incredible) tornados.\n",
        "\n",
        "<br>\n",
        "\n",
        "In terms of fatalities, we are generally more interested in the fatalities in higher magnitude tornados since the general assumption or perception would be that higher magnitude tornados should or at least have a higher probability of causing more fatalities. And it is rather interesting find out if this assumotion/perception is true. However, since magnitude 5 (incredible) tornados hardly ever occurs, it is probably more practical to look at ralatively higher magnitude tornados but with more occurance. This is precisely one of the reasons why in **Test for a Difference in Two Means (Q1)** we choose to look at magnitude level 4 and 3 tornados.\n",
        "\n",
        "<br>\n",
        "\n",
        "In terms of occurence of tornados in each month, it is potentially interesting to investigate the proportion of both low magnitude and high magnitude tornados. Specifically since there appears to be so much more low level tornados, we are particularly curious about whether low maginitude tornados are more likely to occur in months with more tornado occurrence. If that is the case, then people might not fear as much as they are probably have been when in thos months associated with high tornodo occurrences since even with more tornados for these months, they are less likely to cause any real damages. Thus that is why we choose to look at the proportion of magnitude level 0 tornaos **Test for a Difference in Two Proportions (Q2)**."
      ],
      "metadata": {
        "id": "A8SGYjBlZBnp"
      }
    },
    {
      "cell_type": "code",
      "source": [
        "# Chart 1 -- bar chart\n",
        "mag.table <- table(tornado.2008$mag)\n",
        "\n",
        "# Create a vector of name of different level of magnitude\n",
        "mag.level <- c('0: Light', '1: Moderate', '2: Considerable', '3: Severe', '4: Devastating', '5: Incredible', '-9: Unknown')\n",
        "\n",
        "bar_midpoints.c2 <- barplot(mag.table,\n",
        "                         main = \"Tornados in Each Magnitude 2008-2021\",\n",
        "                         xlab = \"Magnitude\",\n",
        "                         ylab = \"Frequency\",\n",
        "                         ylim = c(0,10000),\n",
        "                         col = \"navy\",\n",
        "                         cex.lab=1.2, cex.axis=0.9, cex.main=1.5)\n",
        "\n",
        "# Create a reference for people to know what does each level mean\n",
        "legend(x=\"topright\",\n",
        "       legend = mag.level,\n",
        "       title = \"magnitude levels\")\n",
        "\n",
        "# Loop over the bars and add the frequency counts above each bar\n",
        "for(i in 1:length(mag.table)) {\n",
        "  text(x = bar_midpoints.c2[i], y = mag.table[i] + max(mag.table)/50, labels = as.character(mag.table[i]))\n",
        "}"
      ],
      "metadata": {
        "id": "XOD0YgceZLG0"
      },
      "execution_count": null,
      "outputs": []
    },
    {
      "cell_type": "markdown",
      "source": [
        "# Distribution of Fatalities by Magnitude Levels (relating to Q1)\n",
        "-----\n",
        "This Comparative Plots For a Difference in Means, we would like to compare the distribution of number of fatalities (quantitative variables) for each magnitude level (qualitative variables).\n",
        "\n",
        "From this graph and the caculated means for each magnitude level, we can tell that level 0, 1, 2 tornados barely had any fatalities. And there is a relatively significant \"jump\" in the mean fatalities from level 3 to level 4 tornados and ultimately the mean fatalities had a huge leap from level 4 to level 5. The results seems to line up with the general assumption or perception: higher magnitude tornados usually or at least have a higher probability of causing more fatalities on avarage. And thus we fianlized our **Test for a Difference in Two Means (Q1)** to look at magnitude level 4 and 3 tornados instead of changing our focus to fatalities of lower magnitude tornados."
      ],
      "metadata": {
        "id": "J7BTy_rjZk95"
      }
    },
    {
      "cell_type": "code",
      "source": [
        "# Compute sample means of fatalities in different magnitude level\n",
        "tapply(tornado.2008$fat, tornado.2008$mag, mean)"
      ],
      "metadata": {
        "colab": {
          "base_uri": "https://localhost:8080/",
          "height": 52
        },
        "id": "UKGx77ICI_4p",
        "outputId": "5d6e242f-8b91-4282-a373-2397c0f8b6c9"
      },
      "execution_count": null,
      "outputs": [
        {
          "output_type": "display_data",
          "data": {
            "text/html": [
              "<style>\n",
              ".dl-inline {width: auto; margin:0; padding: 0}\n",
              ".dl-inline>dt, .dl-inline>dd {float: none; width: auto; display: inline-block}\n",
              ".dl-inline>dt::after {content: \":\\0020\"; padding-right: .5ex}\n",
              ".dl-inline>dt:not(:first-of-type) {padding-left: .5ex}\n",
              "</style><dl class=dl-inline><dt>0</dt><dd>0.000447377250866793</dd><dt>1</dt><dd>0.00700157535445475</dd><dt>2</dt><dd>0.0872852233676976</dd><dt>3</dt><dd>0.800546448087432</dd><dt>4</dt><dd>5.70886075949367</dd><dt>5</dt><dd>40.375</dd><dt>-9</dt><dd>0</dd></dl>\n"
            ],
            "text/markdown": "0\n:   0.0004473772508667931\n:   0.007001575354454752\n:   0.08728522336769763\n:   0.8005464480874324\n:   5.708860759493675\n:   40.375-9\n:   0\n\n",
            "text/latex": "\\begin{description*}\n\\item[0] 0.000447377250866793\n\\item[1] 0.00700157535445475\n\\item[2] 0.0872852233676976\n\\item[3] 0.800546448087432\n\\item[4] 5.70886075949367\n\\item[5] 40.375\n\\item[-9] 0\n\\end{description*}\n",
            "text/plain": [
              "           0            1            2            3            4            5 \n",
              "4.473773e-04 7.001575e-03 8.728522e-02 8.005464e-01 5.708861e+00 4.037500e+01 \n",
              "          -9 \n",
              "0.000000e+00 "
            ]
          },
          "metadata": {}
        }
      ]
    },
    {
      "cell_type": "code",
      "source": [
        "# Creat 7 side-by-side boxplots to compare mag and fat\n",
        "\n",
        "color <- rainbow(7)\n",
        "\n",
        "boxplot(fat ~ mag, data = tornado.2008,\n",
        "        main = \"Comparing Fatalities and Magnitude Levels\",\n",
        "        xlab = \"Number of Fatalities\",\n",
        "        ylab = \"Magnitude Levels\",\n",
        "        horizontal = TRUE,\n",
        "        names = c(\"0\", \"1\", \"2\", \"3\", \"4\", \"5\", \"-9\"),\n",
        "        cex.lab=1.5, cex.axis=1.5, cex.main=1.5,\n",
        "        col = color)\n",
        "\n",
        "# Create a vector of name of different level of magnitude\n",
        "mag.level <- c('0: Light', '1: Moderate', '2: Considerable', '3: Severe', '4: Devastating', '5: Incredible', '-9: Unknown')\n",
        "\n",
        "# Create a reference for people to know what does each level mean\n",
        "legend(x=\"bottomright\",\n",
        "       legend = mag.level,\n",
        "       title = \"magnitude levels\",\n",
        "       fill = color)"
      ],
      "metadata": {
        "colab": {
          "base_uri": "https://localhost:8080/",
          "height": 437
        },
        "id": "WkUWar81ZzOl",
        "outputId": "04d41a39-daa2-4ad4-d01b-9393bf795b4a"
      },
      "execution_count": null,
      "outputs": [
        {
          "output_type": "display_data",
          "data": {
            "text/plain": [
              "Plot with title “Comparing Fatalities and Magnitude Levels”"
            ],
            "image/png": "[encoded data removed]"
          },
          "metadata": {
            "image/png": {
              "width": 420,
              "height": 420
            }
          }
        }
      ]
    },
    {
      "cell_type": "markdown",
      "source": [
        "## Distribution of Categorical Variable Month (`mo`)\n",
        "\n",
        "---\n",
        "\n",
        "\n",
        "From the distribution of **month**, we can see that from 2008 to 2021, May had the most tornados (3765) and November had the least tornados (562). And like I mentioned above, we thought it would be interesting to look at the proportions of tornados of different magnitudes since it might be the case that low maginitude tornados are more likely to occur in months with more tornado occurrence. For example, May indeed have more tornados but it may be that most of them are light ones that doesn't effect people's lives that much; or that November indeed have less tornados but most of them are severe or devastating ones that effect people's lives in significant ways. Also, these 2 month also indicate different seasons: May can be spring/summer and November is mostly winter. So seaonal trends are also something interestimg to consider. Thus that is why we choose to look at May and November in **Test for a Difference in Two Proportions (Q2)**.\n"
      ],
      "metadata": {
        "id": "X_Jnst8Sb8rL"
      }
    },
    {
      "cell_type": "code",
      "source": [
        "# Bar chart\n",
        "month.table <- table(tornado.2008$mo)\n",
        "\n",
        "# Create a vector of month names (or use month.abb for built-in abbreviations)\n",
        "month.abb <- c('Jan', 'Feb', 'Mar', 'Apr', 'May', 'Jun', 'Jul', 'Aug', 'Sep', 'Oct', 'Nov', 'Dec')\n",
        "\n",
        "bar_midpoints.c1 <- barplot(month.table,\n",
        "                         main = \"Tornados in Each Month 2008-2021\",\n",
        "                         xlab = \"Month\",\n",
        "                         ylab = \"Frequency\",\n",
        "                         ylim = c(0,4000),\n",
        "                         col = \"seagreen\",\n",
        "                         names.arg = month.abb,\n",
        "                         cex.lab=1.2, cex.axis=1.2, cex.main=1.5)\n",
        "\n",
        "# Loop over the bars and add the frequency counts above each bar\n",
        "for(i in 1:length(month.table)) {\n",
        "  text(x = bar_midpoints.c1[i], y = month.table[i] + max(month.table)/50, labels = as.character(month.table[i]))\n",
        "}"
      ],
      "metadata": {
        "colab": {
          "base_uri": "https://localhost:8080/",
          "height": 437
        },
        "id": "a66skZJGcEj0",
        "outputId": "cbf92b29-6814-41aa-e14a-abe8c7486ff3"
      },
      "execution_count": null,
      "outputs": [
        {
          "output_type": "display_data",
          "data": {
            "text/plain": [
              "Plot with title “Tornados in Each Month 2008-2021”"
            ],
            "image/png": "[encoded data removed]"
          },
          "metadata": {
            "image/png": {
              "width": 420,
              "height": 420
            }
          }
        }
      ]
    },
    {
      "cell_type": "markdown",
      "source": [
        "# Distribution of Tornados of Different Magnitude Levels by Month (relating to Q2)\n",
        "-----\n",
        "In this Comparative Plots For a Difference in Proportions, we intend to compare the proportion of magnitude level 0 tornados in each month.\n",
        "\n",
        "As suggested by the legend, the lowest red bars indicates the proportion of magnitude level 0 tornados in each month. And as we can see, September has the \"higest\" red bar (highest propoetion) which is a proportion of just over 60%. As for the months we are most interested in, May and November, we can see that our speculation of low maginitude tornados are more likely to occur in months with more tornado occurrence is at least comfirmed by the data from 2008-2021: May have one of the relatively higher red bar and November have what might be one of the shortest red bar. And the 2 specific proportions fwe are interested are:\n",
        "\n",
        "<font color=\"tomato\">**$$p_{May} = 0.5468791501, \\ p_{Nov} = 0.3825622776$$**</font>\n",
        "\n",
        "Thus, we decided to go ahead and choose look at May and November in **Test for a Difference in Two Proportions (Q2)**."
      ],
      "metadata": {
        "id": "VnPhXprOcNWq"
      }
    },
    {
      "cell_type": "code",
      "source": [
        "# two-way table of counts of different magnitude level in each month\n",
        "mag.mon.col <- prop.table(table(tornado.2008$mag,tornado.2008$mo), 2)\n",
        "mag.mon.col"
      ],
      "metadata": {
        "colab": {
          "base_uri": "https://localhost:8080/",
          "height": 486
        },
        "id": "TcYMqo0Kcq1v",
        "outputId": "7aaf6db6-8de8-405d-e850-760413019878"
      },
      "execution_count": null,
      "outputs": [
        {
          "output_type": "display_data",
          "data": {
            "text/plain": [
              "    \n",
              "                1            2            3            4            5\n",
              "  0  0.4090909091 0.3909883721 0.4502875924 0.4326666667 0.5468791501\n",
              "  1  0.4269480519 0.4142441860 0.3730484799 0.3996666667 0.2820717131\n",
              "  2  0.1233766234 0.1468023256 0.1207888250 0.1076666667 0.0722443559\n",
              "  3  0.0292207792 0.0348837209 0.0230073952 0.0333333333 0.0241699867\n",
              "  4  0.0000000000 0.0130813953 0.0041084634 0.0083333333 0.0042496680\n",
              "  5  0.0000000000 0.0000000000 0.0000000000 0.0013333333 0.0010624170\n",
              "  -9 0.0113636364 0.0000000000 0.0287592440 0.0170000000 0.0693227092\n",
              "    \n",
              "                6            7            8            9           10\n",
              "  0  0.6254487435 0.6267247640 0.6276408451 0.6383285303 0.4971493729\n",
              "  1  0.2708416434 0.2752360203 0.2746478873 0.2766570605 0.3865450399\n",
              "  2  0.0586358197 0.0450254176 0.0343309859 0.0533141210 0.0729760547\n",
              "  3  0.0127642601 0.0094408134 0.0079225352 0.0043227666 0.0079817560\n",
              "  4  0.0047865975 0.0007262164 0.0008802817 0.0000000000 0.0022805017\n",
              "  5  0.0000000000 0.0000000000 0.0000000000 0.0000000000 0.0000000000\n",
              "  -9 0.0275229358 0.0428467683 0.0545774648 0.0273775216 0.0330672748\n",
              "    \n",
              "               11           12\n",
              "  0  0.3825622776 0.3804945055\n",
              "  1  0.4359430605 0.4175824176\n",
              "  2  0.1387900356 0.1497252747\n",
              "  3  0.0266903915 0.0357142857\n",
              "  4  0.0071174377 0.0054945055\n",
              "  5  0.0000000000 0.0000000000\n",
              "  -9 0.0088967972 0.0109890110"
            ]
          },
          "metadata": {}
        }
      ]
    },
    {
      "cell_type": "code",
      "source": [
        "standard_colors <- rainbow(7)\n",
        "\n",
        "# create stacked bar the proportion of level 0 tornados relative the number of\n",
        "# tornados occurred in that month.\n",
        "barplot(mag.mon.col,\n",
        "        main = \"Magnitude Tornados By Month\",\n",
        "        xlab = \"Month\",\n",
        "        col = standard_colors,\n",
        "        ylab = \"Proportion\")\n",
        "\n",
        "# add legend to plot\n",
        "legend(x=\"bottom\",\n",
        "       legend=mag.level,\n",
        "       fill = standard_colors)"
      ],
      "metadata": {
        "colab": {
          "base_uri": "https://localhost:8080/",
          "height": 437
        },
        "id": "CeYjPTJNctzs",
        "outputId": "b32928c0-c397-43c3-c60e-c6bdbfd93ed8"
      },
      "execution_count": null,
      "outputs": [
        {
          "output_type": "display_data",
          "data": {
            "text/plain": [
              "Plot with title “Magnitude Tornados By Month”"
            ],
            "image/png": "[encoded data removed]"
          },
          "metadata": {
            "image/png": {
              "width": 420,
              "height": 420
            }
          }
        }
      ]
    },
    {
      "cell_type": "markdown",
      "source": [
        "# Test for a Difference in Two Means\n",
        "\n",
        "------------------------------------------------------------------------\n",
        "\n",
        "**Does magnitude level 4 (Devistating) tornados necessarily cause more fatalities than magnitude level 3 (Severe) tornados on average in the US?**\n",
        "\n",
        "- <font color=\"dodgerblue\">$H_0$: $\\mu_{m4} - \\mu_{m3} = 0$</font>\n",
        "  - Magnitude level 4 (Devistating) tornados cause **the same amount of fatalities** than magnitude level 3 (Severe) tornados\n",
        "- <font color=\"dodgerblue\">**$H_0$: $\\mu_{m4} - \\mu_{m3} > 0$**</font>\n",
        "  - Magnitude level 4 (Devistating) tornados cause **more fatalities** than magnitude level 3 (Severe) tornados?\n",
        "\n",
        "<br>\n",
        "\n",
        "\n",
        "\n",
        "\n"
      ],
      "metadata": {
        "id": "LPeFiMWj_gi9"
      }
    },
    {
      "cell_type": "markdown",
      "source": [
        "## Permutation Test\n",
        "\n",
        "---\n",
        "\n"
      ],
      "metadata": {
        "id": "Obpwbx_Dgm_a"
      }
    },
    {
      "cell_type": "code",
      "source": [
        "# Step 1: Subset the tornado.2008 data to create three different vectors\n",
        "\n",
        "m3 <- subset(tornado.2008, select = fat, mag == \"3\", drop = TRUE)\n",
        "m4 <- subset(tornado.2008, select = fat, mag == \"4\", drop = TRUE)\n",
        "pooled.mean <- c(m3, m4)"
      ],
      "metadata": {
        "id": "VogLA2gsK8zF"
      },
      "execution_count": null,
      "outputs": []
    },
    {
      "cell_type": "code",
      "source": [
        "# Step 2: Observed test statistic\n",
        "\n",
        "test.stat.mean <- mean(m4) - mean(m3)\n",
        "test.stat.mean"
      ],
      "metadata": {
        "colab": {
          "base_uri": "https://localhost:8080/",
          "height": 34
        },
        "id": "gQmkpfKcNmU6",
        "outputId": "7a157d9d-96f8-4cbd-aaf5-c3b22e2a8289"
      },
      "execution_count": null,
      "outputs": [
        {
          "output_type": "display_data",
          "data": {
            "text/html": [
              "4.90831431140624"
            ],
            "text/markdown": "4.90831431140624",
            "text/latex": "4.90831431140624",
            "text/plain": [
              "[1] 4.908314"
            ]
          },
          "metadata": {}
        }
      ]
    },
    {
      "cell_type": "code",
      "source": [
        "n.m3 <- length(m3)\n",
        "n.m4 <- length(m4)\n",
        "n.pooled.mean <- length(pooled.mean)\n",
        "\n",
        "n.m3\n",
        "n.m4\n",
        "n.pooled.mean"
      ],
      "metadata": {
        "colab": {
          "base_uri": "https://localhost:8080/",
          "height": 69
        },
        "id": "UccKqJKMMZOl",
        "outputId": "03b8648f-3a12-413f-952f-b608fd8f6f6d"
      },
      "execution_count": null,
      "outputs": [
        {
          "output_type": "display_data",
          "data": {
            "text/html": [
              "366"
            ],
            "text/markdown": "366",
            "text/latex": "366",
            "text/plain": [
              "[1] 366"
            ]
          },
          "metadata": {}
        },
        {
          "output_type": "display_data",
          "data": {
            "text/html": [
              "79"
            ],
            "text/markdown": "79",
            "text/latex": "79",
            "text/plain": [
              "[1] 79"
            ]
          },
          "metadata": {}
        },
        {
          "output_type": "display_data",
          "data": {
            "text/html": [
              "445"
            ],
            "text/markdown": "445",
            "text/latex": "445",
            "text/plain": [
              "[1] 445"
            ]
          },
          "metadata": {}
        }
      ]
    },
    {
      "cell_type": "code",
      "source": [
        "# Step 3: Construct and save all 99,999 permutation resample statistics\n",
        "\n",
        "set.seed(7011)\n",
        "N <- 10^5 - 1\n",
        "perm.stat.mean <- numeric(N)\n",
        "\n",
        "\n",
        "for (i in 1:N)\n",
        "{\n",
        "  index <- sample(n.pooled.mean, size = n.m4, replace = FALSE)  # create index vector\n",
        "  x.m4 <- pooled.mean[index]\n",
        "  x.m3 <- pooled.mean[-index]\n",
        "  perm.stat.mean[i] <- mean(x.m4) - mean(x.m3)  # calc difference in sample means\n",
        "}"
      ],
      "metadata": {
        "id": "PGNPiGG6LPJD"
      },
      "execution_count": null,
      "outputs": []
    },
    {
      "cell_type": "code",
      "source": [
        "# plot null distribution (permutation distribution) as a histogram\n",
        "\n",
        "hist(perm.stat.mean, xlab = \"xbar.m4 - xbar.m3\",\n",
        "     main = \"Permutation Distribution\",\n",
        "     xlim = c(-2, 5),\n",
        "     cex.lab=1.5, cex.axis=1.5, cex.main=1.5)\n",
        "\n",
        "abline(v = test.stat.mean, col = \"red\")"
      ],
      "metadata": {
        "colab": {
          "base_uri": "https://localhost:8080/",
          "height": 437
        },
        "id": "jQ2G5sYfOw5X",
        "outputId": "d2fbb34e-968f-464e-f915-b83549e9e61d"
      },
      "execution_count": null,
      "outputs": [
        {
          "output_type": "display_data",
          "data": {
            "text/plain": [
              "Plot with title “Permutation Distribution”"
            ],
            "image/png": "[encoded data removed]"
          },
          "metadata": {
            "image/png": {
              "width": 420,
              "height": 420
            }
          }
        }
      ]
    },
    {
      "cell_type": "code",
      "source": [
        "# Step 4: P-value (One-tail)\n",
        "\n",
        "p.value.mean <- sum(perm.stat.mean >= test.stat.mean) + 1 / (N + 1)\n",
        "format(p.value.mean, scientific = FALSE)"
      ],
      "metadata": {
        "colab": {
          "base_uri": "https://localhost:8080/",
          "height": 34
        },
        "id": "bCjYwJX1PNkw",
        "outputId": "2ebffe45-bbdd-40be-bddd-635df2a56549"
      },
      "execution_count": null,
      "outputs": [
        {
          "output_type": "display_data",
          "data": {
            "text/html": [
              "'0.00001'"
            ],
            "text/markdown": "'0.00001'",
            "text/latex": "'0.00001'",
            "text/plain": [
              "[1] \"0.00001\""
            ]
          },
          "metadata": {}
        }
      ]
    },
    {
      "cell_type": "markdown",
      "source": [
        " **Make a decision using a 5% significance level:**\n",
        "\n",
        " <br>\n",
        "\n",
        "\n",
        "The test suggest that there is a $0.001\\%$ chance of getting an observed difference in the sample mean of fatalities of magnitude level 4 (Devistating) tornados and magnitude level 3 (Severe) tornados as or more extreme as the 4.90831431140624 if there really was no difference in mean of fatalities of all tornados of magnitude level 4 and fatalities of all tornados of magnitude level 3 in the US.\n",
        "\n",
        "<br>\n",
        "\n",
        "Since the P-value is approximately $0.00001$ which is less than or equal to the significance level $\\alpha = 0.05$, the test is statistically significant.\n",
        "\n",
        "<br>\n",
        "\n",
        "<font color=\"tomato\">**This means we can reject the null hypothesis and have evidence that magnitude level 4 (Devistating) tornados do cause more fatalities than magnitude level 3 (Severe) tornados on average in the US.**</font>\n",
        "\n",
        "\n",
        "<br>  "
      ],
      "metadata": {
        "id": "xZ2C5n2MQzp3"
      }
    },
    {
      "cell_type": "markdown",
      "source": [
        "## Parametric Test\n",
        "\n",
        "---\n",
        "\n",
        "####Method 1"
      ],
      "metadata": {
        "id": "1v84nfY1guhc"
      }
    },
    {
      "cell_type": "code",
      "source": [
        "# Method 1\n",
        "\n",
        "t.test(m4, m3, alt = \"greater\")"
      ],
      "metadata": {
        "colab": {
          "base_uri": "https://localhost:8080/",
          "height": 208
        },
        "id": "YqWEJATLxx-G",
        "outputId": "39171740-b628-4b11-e2ad-c1d90f87df1e"
      },
      "execution_count": null,
      "outputs": [
        {
          "output_type": "display_data",
          "data": {
            "text/plain": [
              "\n",
              "\tWelch Two Sample t-test\n",
              "\n",
              "data:  m4 and m3\n",
              "t = 4.0678, df = 79.32, p-value = 5.56e-05\n",
              "alternative hypothesis: true difference in means is greater than 0\n",
              "95 percent confidence interval:\n",
              " 2.900161      Inf\n",
              "sample estimates:\n",
              "mean of x mean of y \n",
              "5.7088608 0.8005464 \n"
            ]
          },
          "metadata": {}
        }
      ]
    },
    {
      "cell_type": "code",
      "source": [
        "format(5.56e-05, scientific = FALSE)"
      ],
      "metadata": {
        "colab": {
          "base_uri": "https://localhost:8080/",
          "height": 34
        },
        "id": "A8RdNYvcz3AY",
        "outputId": "f9e8ccf7-33f3-46b1-b584-aad266bd4047"
      },
      "execution_count": null,
      "outputs": [
        {
          "output_type": "display_data",
          "data": {
            "text/html": [
              "'0.0000556'"
            ],
            "text/markdown": "'0.0000556'",
            "text/latex": "'0.0000556'",
            "text/plain": [
              "[1] \"0.0000556\""
            ]
          },
          "metadata": {}
        }
      ]
    },
    {
      "cell_type": "code",
      "source": [
        "# Method 2\n",
        "\n",
        "# Step 1: Calculate standardized test statistic\n",
        "ob.diff <- mean(m4) - mean(m3)\n",
        "s.m3 <- sd(m3)\n",
        "s.m4 <- sd(m4)\n",
        "se.mean <- sqrt(s.m3^2 / n.m3 + s.m4^2 / n.m4)  # estimate for standard error\n",
        "t.test.mean <- (ob.diff - 0) / se.mean  # standardized t-test statistic\n",
        "\n",
        "ob.diff\n",
        "se.mean\n",
        "t.test.mean"
      ],
      "metadata": {
        "colab": {
          "base_uri": "https://localhost:8080/",
          "height": 69
        },
        "id": "yXTqJLMclbdD",
        "outputId": "a97493cb-65d5-4eb6-9536-39b59de028c9"
      },
      "execution_count": null,
      "outputs": [
        {
          "output_type": "display_data",
          "data": {
            "text/html": [
              "4.90831431140624"
            ],
            "text/markdown": "4.90831431140624",
            "text/latex": "4.90831431140624",
            "text/plain": [
              "[1] 4.908314"
            ]
          },
          "metadata": {}
        },
        {
          "output_type": "display_data",
          "data": {
            "text/html": [
              "1.20661148631481"
            ],
            "text/markdown": "1.20661148631481",
            "text/latex": "1.20661148631481",
            "text/plain": [
              "[1] 1.206611"
            ]
          },
          "metadata": {}
        },
        {
          "output_type": "display_data",
          "data": {
            "text/html": [
              "4.0678498150196"
            ],
            "text/markdown": "4.0678498150196",
            "text/latex": "4.0678498150196",
            "text/plain": [
              "[1] 4.06785"
            ]
          },
          "metadata": {}
        }
      ]
    },
    {
      "cell_type": "code",
      "source": [
        "# Step 2: P-value (One-tail)\n",
        "\n",
        "n.min.mean <- min(n.m3, n.m4)\n",
        "p.value.mean2 <- 1 - pt(t.test.mean, n.min.mean - 1)\n",
        "\n",
        "p.value.mean2\n",
        "format(p.value.mean2, scientific = FALSE)"
      ],
      "metadata": {
        "colab": {
          "base_uri": "https://localhost:8080/",
          "height": 52
        },
        "id": "ZADmyVcuoPFx",
        "outputId": "acedc504-2f9b-41b2-8e87-68223e3da18e"
      },
      "execution_count": null,
      "outputs": [
        {
          "output_type": "display_data",
          "data": {
            "text/html": [
              "5.63140309157717e-05"
            ],
            "text/markdown": "5.63140309157717e-05",
            "text/latex": "5.63140309157717e-05",
            "text/plain": [
              "[1] 5.631403e-05"
            ]
          },
          "metadata": {}
        },
        {
          "output_type": "display_data",
          "data": {
            "text/html": [
              "'0.00005631403'"
            ],
            "text/markdown": "'0.00005631403'",
            "text/latex": "'0.00005631403'",
            "text/plain": [
              "[1] \"0.00005631403\""
            ]
          },
          "metadata": {}
        }
      ]
    },
    {
      "cell_type": "code",
      "source": [
        "#  Step 3: Graph null distribution (t-distribution) corresponding to the p-value\n",
        "\n",
        "v <- n.min.mean - 1  # degrees of freedom\n",
        "test.stat <- t.test.mean\n",
        "\n",
        "# Calculate the range for the x-axis\n",
        "end.t <- qt(0.9997, v)\n",
        "xmax <- max(end.t, test.stat)\n",
        "xmin <- -end.t\n",
        "\n",
        "# Using ggplot2 to plot\n",
        "library(ggplot2)\n",
        "\n",
        "\n",
        "ggplot(data = data.frame(x = c(xmin, xmax)), aes(x)) +\n",
        "  stat_function(fun = dt, args = list(df = v),\n",
        "                geom = \"area\", fill = NA, color = \"black\") +\n",
        "  stat_function(fun = dt, args = list(df = v),\n",
        "                geom = \"area\", fill = \"firebrick2\", xlim = c(xmin, -test.stat)) +\n",
        "  stat_function(fun = dt, args = list(df = v),\n",
        "                geom = \"area\", fill = \"firebrick2\", xlim = c(test.stat, xmax)) +\n",
        "  geom_vline(xintercept = test.stat, linetype = \"dashed\",\n",
        "             color = \"firebrick2\", linewidth = 1) +\n",
        "  labs(x = \"Test Statistic\", y = \"\") +\n",
        "  scale_y_continuous(breaks = NULL) +\n",
        "  scale_x_continuous(breaks = test.stat) +\n",
        "  geom_hline(yintercept = 0) +\n",
        "  theme_bw() +\n",
        "  theme(axis.text.x = element_text(size = 15, color = \"firebrick2\"))"
      ],
      "metadata": {
        "colab": {
          "base_uri": "https://localhost:8080/",
          "height": 437
        },
        "id": "R6wH24gwpIVl",
        "outputId": "f96855e6-7338-40df-d31e-447216b481e9"
      },
      "execution_count": null,
      "outputs": [
        {
          "output_type": "display_data",
          "data": {
            "text/plain": [
              "plot without title"
            ],
            "image/png": "[encoded data removed]"
          },
          "metadata": {
            "image/png": {
              "width": 420,
              "height": 420
            }
          }
        }
      ]
    },
    {
      "cell_type": "markdown",
      "source": [
        "---\n",
        "We have\n",
        "\n",
        "$$\\mbox{p-value} = P( T \\geq 4.0678498150196)  = 5.63140309157717 \\times 10^{-5} \\approx 0.00005631403$$\n",
        "\n",
        "<br>\n",
        "\n",
        "**Make a decision using a 5% significance level:**\n",
        "\n",
        " <br>\n",
        "\n",
        "\n",
        "The test suggest that there is a $0.005631403\\%$ chance of getting an observed difference in the sample mean of fatalities of magnitude level 4 (Devistating) tornados and magnitude level 3 (Severe) tornados as or more extreme as the 4.90831431140624 if there really was no difference in mean of fatalities of all tornados of magnitude level 4 and fatalities of all tornados of magnitude level 3 in the US.\n",
        "\n",
        "<br>\n",
        "\n",
        "Since the P-value is approximately $0.00005631403$ which is less than or equal to the significance level $\\alpha = 0.05$, the test is statistically significant.\n",
        "\n",
        "<br>\n",
        "\n",
        "<font color=\"tomato\">**This means we can reject the null hypothesis and have evidence that magnitude level 4 (Devistating) tornados do cause more fatalities than magnitude level 3 (Severe) tornados on average in the US.**</font> And the results are consistent with the results drawn from using the commands.\n",
        "\n",
        "\n",
        "\n",
        "\n",
        "\n",
        "<br>"
      ],
      "metadata": {
        "id": "2U0T0tvmuEtU"
      }
    },
    {
      "cell_type": "markdown",
      "source": [
        "## Comparison of Results\n",
        "\n",
        "---\n"
      ],
      "metadata": {
        "id": "Fu8Uk5_Dg7nx"
      }
    },
    {
      "cell_type": "markdown",
      "source": [
        "\n",
        "\n",
        "#### Assumptions\n",
        "There is no assumptions we need for the permutation test. However, for Central Limit Theorem to apply for our parametric test, we need our sample size for both groups (n.m3 & n.m4) to be \"large\" enough ($\\geq 30$). Since n.m3 $= 366 > 30$ and n.m4 $= 79 > 30$, I think CLT can definitely be applied in this case. Also, population variances $\\sigma_{m3}^2$ and\n",
        "$\\sigma_{m4}^2$ are unknown.\n",
        "\n",
        "<br>\n",
        "\n",
        "#### Results & Conslusion\n",
        "On a 5% significance level, both tests were statically significant and thus support the conclusion that magnitude level 4 tornadoes result in more fatalities than magnitude level 3 tornadoes on average in the U.S. The reason why they came to the same coclusion is probably because the data characteristics satistfies the CLT assumptions perfectly. Both tests effectively capture the true effect, leading to agreement in their results.\n",
        "\n",
        "With that said, there was a relatively significant difference in the $\\mbox{p-value}$ calculated from the 2 tests:\n",
        "\n",
        "$$\\mbox{p-value}_{permutation} = 0.00001$$\n",
        "$$\\mbox{p-value}_{parametric} \\approx 0.00005631403$$\n",
        "\n",
        "The reason behind this is likely due to the skewnwss of data. As mentioned in **Explanatory Data Analysis**, the distribution of the variable `fat`(fatalities) is highly skewed right. And while our permutation distribution captures that, our t-distriution doesn't since it is always symmetric. Especially since the $\\mbox{p-value}_{permutation}\\ $ can only go as samll as $0.0001 (N = 10^5)$ and it is still smaller than $\\mbox{p-value}_{parametric}$, our permutation test might have more accuracy than our parametric test and respectively $\\mbox{p-value}_{permutation} = 0.00001$ might be more accurate.\n",
        "\n",
        "\n",
        "\n",
        "\n",
        "<br>"
      ],
      "metadata": {
        "id": "5m3pO8V5vlfP"
      }
    },
    {
      "cell_type": "markdown",
      "source": [
        "# Test for a Difference in Two Proportions\n",
        "\n",
        "------------------------------------------------------------------------\n",
        "\n",
        "**In the US, does magnitude level 0 (Light) tornados more likely to occur in May or November?**\n",
        "\n",
        "- <font color=\"dodgerblue\">$H_0$: $p_{May} - p_{Nov} = 0$</font>\n",
        "  -  Magnitude level 0 (Light) tornados are **equally likely** to occur in May and November\n",
        "- <font color=\"dodgerblue\">$H_0$: $p_{May} - p_{Nov} \\neq 0$</font>\n",
        "  - The likelyhood of magnitude level 0 (Light) tornados occurring in May and November are **not the same**\n",
        "\n",
        "  <br>\n",
        "\n",
        "\n"
      ],
      "metadata": {
        "id": "9Nl3HYjPhDzc"
      }
    },
    {
      "cell_type": "markdown",
      "source": [
        "## Permutation Test\n",
        "\n",
        "---\n",
        "\n"
      ],
      "metadata": {
        "id": "82HjzfiLhDzd"
      }
    },
    {
      "cell_type": "code",
      "source": [
        "# Step 1: Subset the tornado.2008 data to create three different vectors\n",
        "\n",
        "may <- subset(tornado.2008, select = mag, mo == \"5\", drop = TRUE)\n",
        "nov <- subset(tornado.2008, select = mag, mo == \"11\", drop = TRUE)\n",
        "pooled.prop <- subset(tornado.2008, select = mag,  mo == \"5\" | mo == \"11\", drop = TRUE)"
      ],
      "metadata": {
        "id": "OqXVU0TMKrZ3"
      },
      "execution_count": null,
      "outputs": []
    },
    {
      "cell_type": "code",
      "source": [
        "# Step 2: Observed test statistic\n",
        "\n",
        "test.stat.prop <- mean(may == '0') - mean(nov == '0')\n",
        "test.stat.prop"
      ],
      "metadata": {
        "colab": {
          "base_uri": "https://localhost:8080/",
          "height": 34
        },
        "id": "e7E9V3W9WFiX",
        "outputId": "1e038cdb-6808-42bf-8fff-11f1a4682008"
      },
      "execution_count": null,
      "outputs": [
        {
          "output_type": "display_data",
          "data": {
            "text/html": [
              "0.16431687248633"
            ],
            "text/markdown": "0.16431687248633",
            "text/latex": "0.16431687248633",
            "text/plain": [
              "[1] 0.1643169"
            ]
          },
          "metadata": {}
        }
      ]
    },
    {
      "cell_type": "code",
      "source": [
        "n.may <- length(may)\n",
        "n.nov <- length(nov)\n",
        "n.pooled.prop <- length(pooled.prop)\n",
        "\n",
        "n.may\n",
        "n.nov\n",
        "n.pooled.prop"
      ],
      "metadata": {
        "colab": {
          "base_uri": "https://localhost:8080/",
          "height": 69
        },
        "id": "YTnHcQLLWr05",
        "outputId": "c43cc4fe-7c03-45f4-ec96-e7b4edf5587f"
      },
      "execution_count": null,
      "outputs": [
        {
          "output_type": "display_data",
          "data": {
            "text/html": [
              "3765"
            ],
            "text/markdown": "3765",
            "text/latex": "3765",
            "text/plain": [
              "[1] 3765"
            ]
          },
          "metadata": {}
        },
        {
          "output_type": "display_data",
          "data": {
            "text/html": [
              "562"
            ],
            "text/markdown": "562",
            "text/latex": "562",
            "text/plain": [
              "[1] 562"
            ]
          },
          "metadata": {}
        },
        {
          "output_type": "display_data",
          "data": {
            "text/html": [
              "4327"
            ],
            "text/markdown": "4327",
            "text/latex": "4327",
            "text/plain": [
              "[1] 4327"
            ]
          },
          "metadata": {}
        }
      ]
    },
    {
      "cell_type": "code",
      "source": [
        "# Step 3: Construct and save all 99,999 permutation resample statistics\n",
        "\n",
        "set.seed(7011)\n",
        "N <- 10^5 - 1\n",
        "result.prop <- numeric(N)\n",
        "\n",
        "\n",
        "for (i in 1:N)\n",
        "{\n",
        "  index <- sample(n.pooled.prop, size = n.may, replace = FALSE)  # create index vector\n",
        "  result.prop[i] <- mean(pooled.prop[index] == \"0\") - mean(pooled.prop[-index] == \"0\")  # calc difference in sample proportions\n",
        "}"
      ],
      "metadata": {
        "id": "1ENOowSZWgNO"
      },
      "execution_count": null,
      "outputs": []
    },
    {
      "cell_type": "code",
      "source": [
        "# plot null distribution (permutation distribution) as a histogram\n",
        "\n",
        "hist(result.prop, xlab = \"prop.may - prop.nov\",\n",
        "     main = \"Permutation Distribution\",\n",
        "     xlim = c(-0.2, 0.2),\n",
        "     cex.lab=1.5, cex.axis=1.5, cex.main=1.5)\n",
        "\n",
        "abline(v = c(-test.stat.prop, test.stat.prop), col = c(\"blue\", \"red\"))"
      ],
      "metadata": {
        "colab": {
          "base_uri": "https://localhost:8080/",
          "height": 437
        },
        "id": "gbCZ3gGoZK-d",
        "outputId": "d15472ce-4153-49a6-ce73-f3dd98b31bed"
      },
      "execution_count": null,
      "outputs": [
        {
          "output_type": "display_data",
          "data": {
            "text/plain": [
              "Plot with title “Permutation Distribution”"
            ],
            "image/png": "[encoded data removed]"
          },
          "metadata": {
            "image/png": {
              "width": 420,
              "height": 420
            }
          }
        }
      ]
    },
    {
      "cell_type": "code",
      "source": [
        "# Step 4: P-value (Two-tail)\n",
        "\n",
        "p.value.prop <- 2 * ( sum(result.prop >= test.stat.prop) +1) / (N + 1)\n",
        "format(p.value.prop, scientific = FALSE)"
      ],
      "metadata": {
        "colab": {
          "base_uri": "https://localhost:8080/",
          "height": 34
        },
        "id": "AamkgckxZzX5",
        "outputId": "90ff2abd-776a-444b-bf82-5e67e501a859"
      },
      "execution_count": null,
      "outputs": [
        {
          "output_type": "display_data",
          "data": {
            "text/html": [
              "'0.00002'"
            ],
            "text/markdown": "'0.00002'",
            "text/latex": "'0.00002'",
            "text/plain": [
              "[1] \"0.00002\""
            ]
          },
          "metadata": {}
        }
      ]
    },
    {
      "cell_type": "markdown",
      "source": [
        " **Make a decision using a 5% significance level:**\n",
        "\n",
        " <br>\n",
        "\n",
        "\n",
        "The test suggest that there is a $0.002\\%$ chance of getting an observed difference in the sample proportion of magnitude level 0 (Light) tornados in May and sample proportion of magnitude level 0 (Light) tornados in November as or more extreme as the $\\pm\\ 0.16431687248633$ if there really was no difference in proportion of all magnitude level 0 (Light) tornados in May and all magnitude level 0 (Light) tornados in November in the US.\n",
        "\n",
        "<br>\n",
        "\n",
        "Since the P-value is approximately $0.00002$ which is less than or equal to the significance level $\\alpha = 0.05$, the test is statistically significant.\n",
        "\n",
        "<br>\n",
        "\n",
        "<font color=\"tomato\">**This means we can reject the null hypothesis and have evidence that magnitude level 0 (Light) tornados are indeed more likely to occur in May than November**</font>\n",
        "\n",
        "\n",
        "<br>  "
      ],
      "metadata": {
        "id": "dwj52pGXaryO"
      }
    },
    {
      "cell_type": "markdown",
      "source": [
        "## Parametric Test\n",
        "\n",
        "---\n",
        "\n",
        "####Method 1\n"
      ],
      "metadata": {
        "id": "Zr0NoIEzhDzd"
      }
    },
    {
      "cell_type": "code",
      "source": [
        "x.may <- sum(may == \"0\")\n",
        "x.nov <- sum(nov == \"0\")\n",
        "\n",
        "# Without correction\n",
        "prop.test(c(x.may, x.nov), c(n.may, n.nov), alt = \"two.sided\", correct = FALSE)\n",
        "format(3.42e-13, scientific = FALSE)"
      ],
      "metadata": {
        "colab": {
          "base_uri": "https://localhost:8080/",
          "height": 225
        },
        "id": "RW57zN8uqzgp",
        "outputId": "65fddd9b-c4ef-4c5a-d2b3-2cfb6c62b222"
      },
      "execution_count": null,
      "outputs": [
        {
          "output_type": "display_data",
          "data": {
            "text/plain": [
              "\n",
              "\t2-sample test for equality of proportions without continuity correction\n",
              "\n",
              "data:  c(x.may, x.nov) out of c(n.may, n.nov)\n",
              "X-squared = 52.951, df = 1, p-value = 3.42e-13\n",
              "alternative hypothesis: two.sided\n",
              "95 percent confidence interval:\n",
              " 0.1211035 0.2075303\n",
              "sample estimates:\n",
              "   prop 1    prop 2 \n",
              "0.5468792 0.3825623 \n"
            ]
          },
          "metadata": {}
        },
        {
          "output_type": "display_data",
          "data": {
            "text/html": [
              "'0.000000000000342'"
            ],
            "text/markdown": "'0.000000000000342'",
            "text/latex": "'0.000000000000342'",
            "text/plain": [
              "[1] \"0.000000000000342\""
            ]
          },
          "metadata": {}
        }
      ]
    },
    {
      "cell_type": "code",
      "source": [
        "# With correction\n",
        "prop.test(c(x.may, x.nov), c(n.may, n.nov), alt = \"two.sided\", correct = TRUE)\n",
        "format(4.778e-13, scientific = FALSE)"
      ],
      "metadata": {
        "colab": {
          "base_uri": "https://localhost:8080/",
          "height": 225
        },
        "id": "wSilWhBNuvZV",
        "outputId": "f4e09612-65c2-42cf-846a-ba63bd42e3cd"
      },
      "execution_count": null,
      "outputs": [
        {
          "output_type": "display_data",
          "data": {
            "text/plain": [
              "\n",
              "\t2-sample test for equality of proportions with continuity correction\n",
              "\n",
              "data:  c(x.may, x.nov) out of c(n.may, n.nov)\n",
              "X-squared = 52.294, df = 1, p-value = 4.778e-13\n",
              "alternative hypothesis: two.sided\n",
              "95 percent confidence interval:\n",
              " 0.1200810 0.2085528\n",
              "sample estimates:\n",
              "   prop 1    prop 2 \n",
              "0.5468792 0.3825623 \n"
            ]
          },
          "metadata": {}
        },
        {
          "output_type": "display_data",
          "data": {
            "text/html": [
              "'0.0000000000004778'"
            ],
            "text/markdown": "'0.0000000000004778'",
            "text/latex": "'0.0000000000004778'",
            "text/plain": [
              "[1] \"0.0000000000004778\""
            ]
          },
          "metadata": {}
        }
      ]
    },
    {
      "cell_type": "markdown",
      "source": [
        "---\n",
        "\n",
        "####Method 2\n",
        "---\n",
        "\n",
        "##### Without Correction"
      ],
      "metadata": {
        "id": "C9UUx2Qgv-5-"
      }
    },
    {
      "cell_type": "code",
      "source": [
        "# Step 1: Calculate standardized test statistic\n",
        "p.pooled <- (x.may + x.nov) / (n.may + n.nov)\n",
        "ob.diff.prop <- mean(may == '0') - mean(nov == '0')\n",
        "se.prop <- sqrt(p.pooled * (1 - p.pooled) * (1 / n.may + 1 / n.nov))  # estimate for standard error\n",
        "z.test.prop <- (ob.diff.prop - 0) / se.prop  # standardized t-test statistic\n",
        "\n",
        "ob.diff.prop\n",
        "se.prop\n",
        "z.test.prop"
      ],
      "metadata": {
        "colab": {
          "base_uri": "https://localhost:8080/",
          "height": 69
        },
        "id": "BYKmpAK_8e26",
        "outputId": "f6529080-e96f-4321-8466-690ec9502b1e"
      },
      "execution_count": null,
      "outputs": [
        {
          "output_type": "display_data",
          "data": {
            "text/html": [
              "0.16431687248633"
            ],
            "text/markdown": "0.16431687248633",
            "text/latex": "0.16431687248633",
            "text/plain": [
              "[1] 0.1643169"
            ]
          },
          "metadata": {}
        },
        {
          "output_type": "display_data",
          "data": {
            "text/html": [
              "0.0225811267870269"
            ],
            "text/markdown": "0.0225811267870269",
            "text/latex": "0.0225811267870269",
            "text/plain": [
              "[1] 0.02258113"
            ]
          },
          "metadata": {}
        },
        {
          "output_type": "display_data",
          "data": {
            "text/html": [
              "7.27673486075688"
            ],
            "text/markdown": "7.27673486075688",
            "text/latex": "7.27673486075688",
            "text/plain": [
              "[1] 7.276735"
            ]
          },
          "metadata": {}
        }
      ]
    },
    {
      "cell_type": "code",
      "source": [
        "# Step 2: P-value (two-tail)\n",
        "\n",
        "p.value.prop2 <- 2 * pnorm(-1 * z.test.prop, 0 , 1)\n",
        "p.value.prop2\n",
        "format(p.value.prop2, scientific = FALSE)"
      ],
      "metadata": {
        "colab": {
          "base_uri": "https://localhost:8080/",
          "height": 52
        },
        "id": "5Ks3OtzQ8fkf",
        "outputId": "f565f803-e2c5-4276-8fed-5a7a8ebb809e"
      },
      "execution_count": null,
      "outputs": [
        {
          "output_type": "display_data",
          "data": {
            "text/html": [
              "3.41996470703566e-13"
            ],
            "text/markdown": "3.41996470703566e-13",
            "text/latex": "3.41996470703566e-13",
            "text/plain": [
              "[1] 3.419965e-13"
            ]
          },
          "metadata": {}
        },
        {
          "output_type": "display_data",
          "data": {
            "text/html": [
              "'0.0000000000003419965'"
            ],
            "text/markdown": "'0.0000000000003419965'",
            "text/latex": "'0.0000000000003419965'",
            "text/plain": [
              "[1] \"0.0000000000003419965\""
            ]
          },
          "metadata": {}
        }
      ]
    },
    {
      "cell_type": "code",
      "source": [
        "#  Step 3: Graph null distribution (t-distribution) corresponding to the p-value\n",
        "\n",
        "library(ggplot2)\n",
        "\n",
        "test.stat <- abs(z.test.prop)\n",
        "xmax <- max(0 + 4*se.prop, z.test.prop)\n",
        "xmin <- -xmax\n",
        "\n",
        "\n",
        "ggplot(NULL, aes(c(xmin, xmax))) +\n",
        "  geom_area(stat = \"function\",   fun = dnorm,\n",
        "            args = list(mean = 0, sd = se.prop),\n",
        "            color = \"black\", fill = NA,\n",
        "            xlim = c(-test.stat, test.stat)) +\n",
        "  geom_area(stat = \"function\",   fun = dnorm,\n",
        "            args = list(mean = 0, sd = se.prop),\n",
        "            color = \"black\", fill = \"firebrick2\",\n",
        "            xlim = c(xmin, -test.stat)) +\n",
        "  geom_area(stat = \"function\",   fun = dnorm,\n",
        "            args = list(mean = 0, sd = se.prop),\n",
        "            color = \"black\", fill = \"firebrick2\",\n",
        "            xlim = c(test.stat, xmax)) +\n",
        "  geom_vline(xintercept = c(-test.stat, test.stat), linetype=\"dashed\",\n",
        "                color = \"firebrick2\", linewidth = 1) +\n",
        "  labs(x = \"test statistic\", y = \"\") +\n",
        "  scale_y_continuous(breaks = NULL) +\n",
        "  scale_x_continuous(breaks=c(-test.stat, test.stat)) +\n",
        "  geom_hline(yintercept=0) +\n",
        "  theme_bw() +\n",
        "  theme(axis.text.x=element_text(size=12, color = \"firebrick2\"))"
      ],
      "metadata": {
        "colab": {
          "base_uri": "https://localhost:8080/",
          "height": 437
        },
        "id": "_S8kqFYOy4uk",
        "outputId": "483e5744-2424-42d8-b5ac-5e35440c9c0d"
      },
      "execution_count": null,
      "outputs": [
        {
          "output_type": "display_data",
          "data": {
            "text/plain": [
              "plot without title"
            ],
            "image/png": "[encoded data removed]"
          },
          "metadata": {
            "image/png": {
              "width": 420,
              "height": 420
            }
          }
        }
      ]
    },
    {
      "cell_type": "markdown",
      "source": [
        "We have\n",
        "\n",
        "$$\\mbox{p-value} = 2 \\times P( Z \\geq 7.27673486075688)  = 3.41996470703566 \\times 10^{-13} \\approx 0.0000000000003419965 $$\n",
        "\n",
        "<br>\n",
        "\n",
        "**Make a decision using a 5% significance level:**\n",
        "\n",
        " <br>\n",
        "\n",
        "\n",
        "The test suggest that there is a approximately $0.00000000003419965\\%$ chance of getting an observed difference in the sample proportion of magnitude level 0 (Light) tornados in May and sample proportion of magnitude level 0 (Light) tornados in November as or more extreme as the $\\pm\\ 0.16431687248633$ if there really was no difference in proportion of all magnitude level 0 (Light) tornados in May and all magnitude level 0 (Light) tornados in November in the US.\n",
        "\n",
        "\n",
        "<br>\n",
        "\n",
        "Since the P-value is approximately $0.0000000000003419965$ which is less than or equal to the significance level $\\alpha = 0.05$, the test is statistically significant.\n",
        "\n",
        "<br>\n",
        "\n",
        "<font color=\"tomato\">**This means we can reject the null hypothesis and have evidence that magnitude level 0 (Light) tornados are indeed more likely to occur in May than November.**</font>"
      ],
      "metadata": {
        "id": "q7gFJ4kF-rFs"
      }
    },
    {
      "cell_type": "markdown",
      "source": [
        "---\n",
        "##### With Correction\n",
        "---"
      ],
      "metadata": {
        "id": "kNQm89Osyoet"
      }
    },
    {
      "cell_type": "code",
      "source": [
        "# Step 1: Calculate standardized test statistic\n",
        "x.may.cor <- x.may - 0.5\n",
        "x.nov.cor <- x.nov + 0.5\n",
        "\n",
        "p.may.cor <- x.may.cor / n.may\n",
        "p.nov.cor <- x.nov.cor / n.nov\n",
        "ob.diff.prop.cor <- p.may.cor - p.nov.cor\n",
        "\n",
        "z.test.prop.cor <- (ob.diff.prop.cor - 0) / se.prop  # standardized t-test statistic\n",
        "\n",
        "ob.diff.prop.cor\n",
        "se.prop\n",
        "z.test.prop.cor"
      ],
      "metadata": {
        "colab": {
          "base_uri": "https://localhost:8080/",
          "height": 69
        },
        "id": "3cuEVzpYlZ2L",
        "outputId": "a2aae9dc-82b6-4518-9a23-782de6af7dba"
      },
      "execution_count": null,
      "outputs": [
        {
          "output_type": "display_data",
          "data": {
            "text/html": [
              "0.163294390646193"
            ],
            "text/markdown": "0.163294390646193",
            "text/latex": "0.163294390646193",
            "text/plain": [
              "[1] 0.1632944"
            ]
          },
          "metadata": {}
        },
        {
          "output_type": "display_data",
          "data": {
            "text/html": [
              "0.0225811267870269"
            ],
            "text/markdown": "0.0225811267870269",
            "text/latex": "0.0225811267870269",
            "text/plain": [
              "[1] 0.02258113"
            ]
          },
          "metadata": {}
        },
        {
          "output_type": "display_data",
          "data": {
            "text/html": [
              "7.23145448791367"
            ],
            "text/markdown": "7.23145448791367",
            "text/latex": "7.23145448791367",
            "text/plain": [
              "[1] 7.231454"
            ]
          },
          "metadata": {}
        }
      ]
    },
    {
      "cell_type": "code",
      "source": [
        "# Step 2: P-value (two-tail)\n",
        "\n",
        "p.value.prop2.cor <- 2 * pnorm(-1 * z.test.prop.cor, 0 , 1)\n",
        "p.value.prop2.cor\n",
        "format(p.value.prop2.cor, scientific = FALSE)"
      ],
      "metadata": {
        "colab": {
          "base_uri": "https://localhost:8080/",
          "height": 52
        },
        "id": "2CdhaYUHxRQI",
        "outputId": "65b1e148-c91d-47f3-9fb6-8b74dc1c918d"
      },
      "execution_count": null,
      "outputs": [
        {
          "output_type": "display_data",
          "data": {
            "text/html": [
              "4.77848240302163e-13"
            ],
            "text/markdown": "4.77848240302163e-13",
            "text/latex": "4.77848240302163e-13",
            "text/plain": [
              "[1] 4.778482e-13"
            ]
          },
          "metadata": {}
        },
        {
          "output_type": "display_data",
          "data": {
            "text/html": [
              "'0.0000000000004778482'"
            ],
            "text/markdown": "'0.0000000000004778482'",
            "text/latex": "'0.0000000000004778482'",
            "text/plain": [
              "[1] \"0.0000000000004778482\""
            ]
          },
          "metadata": {}
        }
      ]
    },
    {
      "cell_type": "code",
      "source": [
        "#  Step 3: Graph null distribution (standard-normal-distribution) corresponding to the p-value\n",
        "\n",
        "library(ggplot2)\n",
        "\n",
        "test.stat <- abs(z.test.prop.cor)\n",
        "xmax <- max(0 + 4*se.prop, z.test.prop.cor)\n",
        "xmin <- -xmax\n",
        "\n",
        "\n",
        "ggplot(NULL, aes(c(xmin, xmax))) +\n",
        "  geom_area(stat = \"function\",   fun = dnorm,\n",
        "            args = list(mean = 0, sd = se.prop),\n",
        "            color = \"black\", fill = NA,\n",
        "            xlim = c(-test.stat, test.stat)) +\n",
        "  geom_area(stat = \"function\",   fun = dnorm,\n",
        "            args = list(mean = 0, sd = se.prop),\n",
        "            color = \"black\", fill = \"firebrick2\",\n",
        "            xlim = c(xmin, -test.stat)) +\n",
        "  geom_area(stat = \"function\",   fun = dnorm,\n",
        "            args = list(mean = 0, sd = se.prop),\n",
        "            color = \"black\", fill = \"firebrick2\",\n",
        "            xlim = c(test.stat, xmax)) +\n",
        "  geom_vline(xintercept = c(-test.stat, test.stat), linetype=\"dashed\",\n",
        "                color = \"firebrick2\", linewidth = 1) +\n",
        "  labs(x = \"test statistic\", y = \"\") +\n",
        "  scale_y_continuous(breaks = NULL) +\n",
        "  scale_x_continuous(breaks=c(-test.stat, test.stat)) +\n",
        "  geom_hline(yintercept=0) +\n",
        "  theme_bw() +\n",
        "  theme(axis.text.x=element_text(size=12, color = \"firebrick2\"))"
      ],
      "metadata": {
        "colab": {
          "base_uri": "https://localhost:8080/",
          "height": 437
        },
        "id": "WK-x1llO8l1i",
        "outputId": "70736c09-db38-4931-f7c6-3033e2b99e3f"
      },
      "execution_count": null,
      "outputs": [
        {
          "output_type": "display_data",
          "data": {
            "text/plain": [
              "plot without title"
            ],
            "image/png": "[encoded data removed]"
          },
          "metadata": {
            "image/png": {
              "width": 420,
              "height": 420
            }
          }
        }
      ]
    },
    {
      "cell_type": "markdown",
      "source": [
        "We have\n",
        "\n",
        "$$\\mbox{p-value} = 2 \\times P( Z \\geq 7.27673486075688)  = 4.77848240302163 \\times 10^{-13} \\approx 0.0000000000004778482 $$\n",
        "\n",
        "<br>\n",
        "\n",
        "**Make a decision using a 5% significance level:**\n",
        "\n",
        " <br>\n",
        "\n",
        "\n",
        "The test suggest that there is a approximately $0.00000000004778482\\%$ chance of getting an (corrected) observed difference in the sample proportion of magnitude level 0 (Light) tornados in May and sample proportion of magnitude level 0 (Light) tornados in November as or more extreme as the $\\pm\\ 0.16431687248633$ if there really was no difference in proportion of all magnitude level 0 (Light) tornados in May and all magnitude level 0 (Light) tornados in November in the US.\n",
        "\n",
        "\n",
        "<br>\n",
        "\n",
        "Since the P-value is approximately $0.0000000000004778482$ which is less than or equal to the significance level $\\alpha = 0.05$, the test is statistically significant.\n",
        "\n",
        "<br>\n",
        "\n",
        "<font color=\"tomato\">**This means we can reject the null hypothesis and have evidence that magnitude level 0 (Light) tornados are indeed more likely to occur in May than November.**</font> This results are consistent with the results without correction. The results of performing the tests manually are also consistent with the results drawn from using the commands."
      ],
      "metadata": {
        "id": "1q2YXIPXAwpx"
      }
    },
    {
      "cell_type": "markdown",
      "source": [
        "## Comparison of Results\n",
        "\n",
        "---\n"
      ],
      "metadata": {
        "id": "Tky81zCmhDzd"
      }
    },
    {
      "cell_type": "markdown",
      "source": [
        "\n",
        "\n",
        "#### Assumptions\n",
        "There is no assumptions we need for the permutation test. However, for Central Limit Theorem to apply for our parametric test, $\\mbox{n.may}\\hat{p}_{may} \\geq 10$, $\\mbox{n.may}(1-\\hat{p}_{may}) \\geq 10$, $\\mbox{n.nov}\\hat{p}_{nov} \\geq 10$, and $\\mbox{n.nov}(1-\\hat{p}_{nov}) \\geq 10$ are satisfied. Since\n",
        "\n",
        "$$\\mbox{n.may}\\hat{p}_{may} = 2059 >  10$$\n",
        "$$\\mbox{n.may}(1-\\hat{p}_{may}) = 1706 > 10$$\n",
        "$$\\mbox{n.nov}\\hat{p}_{nov} = 215 > 10$$\n",
        "$$\\mbox{n.nov}(1-\\hat{p}_{nov}) = 347 > 10$$\n",
        "\n",
        "CLT certainly applies in this case.\n",
        "\n",
        "To note that since these assumptions apply, our permutation distribution should likely to appear to be approximately normal as well.\n",
        "\n",
        "\n",
        "\n",
        "<br>\n",
        "\n",
        "#### Results & Conslusion\n",
        "On a 5% significance level, both tests were statically significant and thus support the conclusion that magnitude level 0 (Light) tornados are indeed more likely to occur in May than November on average in the U.S. On a 5% significance level, both tests were statically significant and thus support the conclusion that magnitude level 4 tornadoes result in more fatalities than magnitude level 3 tornadoes on average in the U.S. The reason why they came to the same coclusion is probably because the data characteristics satistfies the CLT assumptions perfectly. Both tests effectively capture the true effect, leading to agreement in their results.\n",
        "\n",
        "With that said, there was a relatively really significant difference in the $\\mbox{p-value}$ from the 2 tests:\n",
        "\n",
        "$$\\mbox{p-value}_{permutation} = 0.00002$$\n",
        "$$\\mbox{(with correction) p-value}_{parametric} = 4.77848240302163 \\times 10^{-13}$$\n",
        "\n",
        "The reason behind this is likely due to the the construction and calclation of the the $\\mbox{p-value}_{permutation}\\ $. In our permutation test, we did the resample only $N = 10^5$ times, which means that for a two-tail test, the $\\mbox{p-value}_{permutation}\\ $ can only go as small as $2 \\times \\dfrac{1}{10^5}$ which is $0.00002$. Since the null distribution for both test is pproximatelt normal and $\\mbox{p-value}_{parametric}$ is way smaller, our parametric test might have more accuracy than our permutation test and respectively $\\mbox{(with correction) p-value}_{parametric} = 4.77848240302163 \\times 10^{-13}$ might be more accurate in this case.\n",
        "\n",
        "\n",
        "<br>"
      ],
      "metadata": {
        "id": "iWumC6wcvx9q"
      }
    },
    {
      "cell_type": "code",
      "source": [
        "n.may * mean(may == '0')\n",
        "n.may * (1 - mean(may == '0'))\n",
        "n.nov * mean(nov == '0')\n",
        "n.nov * (1 - mean(nov == '0'))"
      ],
      "metadata": {
        "colab": {
          "base_uri": "https://localhost:8080/",
          "height": 86
        },
        "id": "MtmjgFFUiGfV",
        "outputId": "799e7951-74f1-43f6-f0af-536b10cf8f51"
      },
      "execution_count": null,
      "outputs": [
        {
          "output_type": "display_data",
          "data": {
            "text/html": [
              "2059"
            ],
            "text/markdown": "2059",
            "text/latex": "2059",
            "text/plain": [
              "[1] 2059"
            ]
          },
          "metadata": {}
        },
        {
          "output_type": "display_data",
          "data": {
            "text/html": [
              "1706"
            ],
            "text/markdown": "1706",
            "text/latex": "1706",
            "text/plain": [
              "[1] 1706"
            ]
          },
          "metadata": {}
        },
        {
          "output_type": "display_data",
          "data": {
            "text/html": [
              "215"
            ],
            "text/markdown": "215",
            "text/latex": "215",
            "text/plain": [
              "[1] 215"
            ]
          },
          "metadata": {}
        },
        {
          "output_type": "display_data",
          "data": {
            "text/html": [
              "347"
            ],
            "text/markdown": "347",
            "text/latex": "347",
            "text/plain": [
              "[1] 347"
            ]
          },
          "metadata": {}
        }
      ]
    },
    {
      "cell_type": "markdown",
      "source": [
        "# Conclusion\n",
        "\n",
        "---\n",
        "\n",
        "\n",
        "Our analysis of tornado data spanning from 1950 to 2021 has provided significant insights into the seasonality and severity of tornado occurrences across the United States. Through rigorous statistical testing, we established that higher magnitude tornadoes, specifically those of magnitude level 4, indeed result in a higher number of fatalities compared to magnitude level 3 tornadoes. Additionally, our findings confirm a variation in tornado occurrences, with light tornadoes (magnitude level 0) more likely to occur in May than in November.\n",
        "\n",
        "<br>\n",
        "\n",
        "###Implications for Climate Policy and Emergency Management\n",
        "\n",
        "\n",
        "These results have potential implications for climate policy and emergency management strategies. The clear link between tornado magnitude and fatalities underscores the need for targeted disaster preparedness and response strategies in regions prone to higher magnitude tornadoes. As climate change continues to affect weather patterns, it is likely that the frequency and intensity of such extreme weather events could increase. Therefore, strengthening building codes, improving early warning systems, and community education become imperative to mitigate the impacts of these disasters.\n",
        "\n",
        "Furthermore, the periodical patterns observed in tornado occurrences suggest that resource allocation for emergency response can be more effectively planned according to predictable seasonal trends. This could enhance the efficiency of emergency operations, ensuring that resources are pre-positioned optimally before peak tornado seasons.\n",
        "\n",
        "<br>\n",
        "\n",
        "###Future Research Directions\n",
        "\n",
        "While our study provides a foundational understanding, further research is essential to deepen insights and refine predictions under changing climatic conditions. Future studies could explore:\n",
        "1. Can we generalize our the trends on May and November into seasonal trends with more climatology researh and analysis?\n",
        "2. Longitudinal trends in tornado magnitude and frequency - Investigating whether climate change is influencing the intensity and frequency of tornadoes\n",
        "3. Impact of geographical factors on tornado outcomes - Include geographical features to model the path, magnitude, and impact of tornadoes.\n",
        "4. Are fatalities linked to any other geographical or characteristics of the tornado, such as length of track and width?\n",
        "\n",
        "<br>\n",
        "\n",
        "Overall, advancements in technology and data analytics offer new opportunities for enhancing tornado research and response strategies. Utilizing big data analytics, machine learning models, and simulation software could significantly improve the accuracy of tornado forecasting and risk assessment.\n",
        "In conclusion, while our study sheds light on critical aspects of tornado patterns and their impacts, the dynamic nature of climate patterns calls for a sustained focus on enhancing our understanding and response strategies towards tornadoes. Integrative approaches that encompass advanced data analysis techniques and cross-disciplinary collaboration will be crucial in addressing the challenges posed by these natural disasters in the era of climate change."
      ],
      "metadata": {
        "id": "nxPN-xXEhPn7"
      }
    },
    {
      "cell_type": "markdown",
      "source": [
        "# Feedback and Rubric:\n",
        "\n",
        "---\n",
        "\n",
        "| Topic | Possible | Deduction |\n",
        "|-------|----------|--------|\n",
        "| Setting up Hypotheses | 2| |\n",
        "| Exploratory Data Analysis |  4 | |\n",
        "| Hypothesis Test for Difference in Means  | 6 |  |\n",
        "| Hypothesis Test for Difference in Proportions  | 6 |  |\n",
        "| Organization and overal quality  |  2 |  |\n",
        "\n",
        "<br>\n",
        "\n",
        "## Total Earned:  / 20\n"
      ],
      "metadata": {
        "id": "AbNHSvGMm-Zi"
      }
    }
  ]
}